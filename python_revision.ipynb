{
 "cells": [
  {
   "cell_type": "markdown",
   "id": "cde0dabf",
   "metadata": {},
   "source": [
    "# Variables"
   ]
  },
  {
   "cell_type": "markdown",
   "id": "8eea46ff",
   "metadata": {},
   "source": [
    "Variables in python are \"Dynamically Typed.\" Implies we don't have to specify the data type at all."
   ]
  },
  {
   "cell_type": "code",
   "execution_count": 16,
   "id": "943f81eb",
   "metadata": {},
   "outputs": [],
   "source": [
    "n = 0 \n",
    "#automatically setting data type as int"
   ]
  },
  {
   "cell_type": "code",
   "execution_count": 17,
   "id": "098bc514",
   "metadata": {},
   "outputs": [
    {
     "name": "stdout",
     "output_type": "stream",
     "text": [
      "n =  0\n"
     ]
    }
   ],
   "source": [
    "print('n = ', n)"
   ]
  },
  {
   "cell_type": "markdown",
   "id": "af1c3e19",
   "metadata": {},
   "source": [
    "In python the type is determined at runtime. So we can reassign a variable to a value of different datatype. "
   ]
  },
  {
   "cell_type": "code",
   "execution_count": 18,
   "id": "118835ee",
   "metadata": {},
   "outputs": [
    {
     "name": "stdout",
     "output_type": "stream",
     "text": [
      "n =  abc\n"
     ]
    }
   ],
   "source": [
    "n = 'abc'\n",
    "print('n = ', n)"
   ]
  },
  {
   "cell_type": "markdown",
   "id": "31ea7df9",
   "metadata": {},
   "source": [
    "We can do multiple assignments of variables in a single line of code. These variables can be of different data types. LHS will be the variable name, RHS will be the value."
   ]
  },
  {
   "cell_type": "code",
   "execution_count": 19,
   "id": "536900ea",
   "metadata": {},
   "outputs": [
    {
     "name": "stdout",
     "output_type": "stream",
     "text": [
      "True\n"
     ]
    }
   ],
   "source": [
    "a, b, c = 89, \"wow\", True\n",
    "print(c)"
   ]
  },
  {
   "cell_type": "markdown",
   "id": "105b797c",
   "metadata": {},
   "source": [
    "Incrementing variables in Python. Cannot do the '++' or '--' operation."
   ]
  },
  {
   "cell_type": "code",
   "execution_count": 20,
   "id": "eafec8ee",
   "metadata": {},
   "outputs": [
    {
     "name": "stdout",
     "output_type": "stream",
     "text": [
      "90\n"
     ]
    }
   ],
   "source": [
    "a = a + 1\n",
    "print (a)"
   ]
  },
  {
   "cell_type": "code",
   "execution_count": 21,
   "id": "2224bc11",
   "metadata": {},
   "outputs": [
    {
     "name": "stdout",
     "output_type": "stream",
     "text": [
      "91\n"
     ]
    }
   ],
   "source": [
    "a += 1\n",
    "print(a)"
   ]
  },
  {
   "cell_type": "code",
   "execution_count": 22,
   "id": "b7bca6a1",
   "metadata": {},
   "outputs": [
    {
     "ename": "SyntaxError",
     "evalue": "invalid syntax (3185148293.py, line 2)",
     "output_type": "error",
     "traceback": [
      "  \u001b[36mCell\u001b[39m\u001b[36m \u001b[39m\u001b[32mIn[22]\u001b[39m\u001b[32m, line 2\u001b[39m\n\u001b[31m    \u001b[39m\u001b[31ma++\u001b[39m\n       ^\n\u001b[31mSyntaxError\u001b[39m\u001b[31m:\u001b[39m invalid syntax\n"
     ]
    }
   ],
   "source": [
    "#the following way of incrementing is not allowed\n",
    "a++\n",
    "print(a)"
   ]
  },
  {
   "cell_type": "markdown",
   "id": "812d352d",
   "metadata": {},
   "source": [
    "Python also has a null variable called 'None' which means absence of a value. "
   ]
  },
  {
   "cell_type": "code",
   "execution_count": null,
   "id": "8cf465cd",
   "metadata": {},
   "outputs": [
    {
     "name": "stdout",
     "output_type": "stream",
     "text": [
      "None\n"
     ]
    }
   ],
   "source": [
    "x = None\n",
    "print(x)"
   ]
  },
  {
   "cell_type": "markdown",
   "id": "9d7f2464",
   "metadata": {},
   "source": [
    "# If Statements"
   ]
  },
  {
   "cell_type": "markdown",
   "id": "409c7ef4",
   "metadata": {},
   "source": [
    "Works same as the other languages, but we don't need any parantheses or curly braces. However indentation is super important. We always put a colon after the condition. 'elif' is the keyword for else if. 'else' remains the same. "
   ]
  },
  {
   "cell_type": "code",
   "execution_count": 23,
   "id": "52099947",
   "metadata": {},
   "outputs": [
    {
     "name": "stdout",
     "output_type": "stream",
     "text": [
      "World\n"
     ]
    }
   ],
   "source": [
    "n = 5\n",
    "if n<5:\n",
    "    print(\"Hello\")\n",
    "elif n==5:\n",
    "    print(\"World\")\n",
    "else:\n",
    "    print(\"Boo\")\n"
   ]
  },
  {
   "cell_type": "markdown",
   "id": "3adc336c",
   "metadata": {},
   "source": [
    "We need parenthesis only for multi=line conditions. In python we have operands like AND and OR and they are simply written using 'and' and 'or' as keywords respectively"
   ]
  },
  {
   "cell_type": "code",
   "execution_count": 24,
   "id": "e865ee54",
   "metadata": {},
   "outputs": [
    {
     "name": "stdout",
     "output_type": "stream",
     "text": [
      "10  is divisible by 2 and 5\n"
     ]
    }
   ],
   "source": [
    "n=10\n",
    "if (n%2==0 and n%5==0):\n",
    "    print(n,\" is divisible by 2 and 5\")"
   ]
  },
  {
   "cell_type": "markdown",
   "id": "c7557e35",
   "metadata": {},
   "source": [
    "# Loops"
   ]
  },
  {
   "cell_type": "markdown",
   "id": "35ec492a",
   "metadata": {},
   "source": [
    "'While' loops are pretty similar to other languages. Again indentation is important here."
   ]
  },
  {
   "cell_type": "code",
   "execution_count": null,
   "id": "7f69d02c",
   "metadata": {},
   "outputs": [
    {
     "name": "stdout",
     "output_type": "stream",
     "text": [
      "6\n"
     ]
    }
   ],
   "source": [
    "n = 1\n",
    "while n<=5:\n",
    "    n+=1\n",
    "print(n)"
   ]
  },
  {
   "cell_type": "markdown",
   "id": "1edfc9e6",
   "metadata": {},
   "source": [
    "For 'for' loop we need to specify something called as a range. wherein our variable will start from the assigned value and there is automatic incrementing until the range-value is reached. Remember the loop stops execution when the range-value is reached"
   ]
  },
  {
   "cell_type": "code",
   "execution_count": null,
   "id": "ed4fc593",
   "metadata": {},
   "outputs": [
    {
     "name": "stdout",
     "output_type": "stream",
     "text": [
      "0\n",
      "1\n",
      "2\n",
      "3\n",
      "4\n"
     ]
    }
   ],
   "source": [
    "for i in range(5):\n",
    "    print(i)\n",
    "#the value 5 won't be printed."
   ]
  },
  {
   "cell_type": "markdown",
   "id": "25dc1cdc",
   "metadata": {},
   "source": [
    "Range can also be specified as a (start-number, end-number)"
   ]
  },
  {
   "cell_type": "code",
   "execution_count": null,
   "id": "be3afada",
   "metadata": {},
   "outputs": [
    {
     "name": "stdout",
     "output_type": "stream",
     "text": [
      "2\n",
      "3\n",
      "4\n",
      "5\n"
     ]
    }
   ],
   "source": [
    "for i in range (2, 6):\n",
    "    print(i)\n",
    "#last-number is not included"
   ]
  },
  {
   "cell_type": "markdown",
   "id": "3f75f81a",
   "metadata": {},
   "source": [
    "These for loops can be made to auto-decrement as well. This can be done by adding an additional arguement in the range '-1'"
   ]
  },
  {
   "cell_type": "code",
   "execution_count": null,
   "id": "aa7db572",
   "metadata": {},
   "outputs": [
    {
     "name": "stdout",
     "output_type": "stream",
     "text": [
      "5\n",
      "4\n",
      "3\n",
      "2\n",
      "1\n"
     ]
    }
   ],
   "source": [
    "for i in range(5, 0, -1):\n",
    "    print(i)"
   ]
  },
  {
   "cell_type": "markdown",
   "id": "868a34a4",
   "metadata": {},
   "source": [
    "Say if we wanna decrement by 2, we pass -2 as the last argument"
   ]
  },
  {
   "cell_type": "code",
   "execution_count": null,
   "id": "9ac3be4d",
   "metadata": {},
   "outputs": [
    {
     "name": "stdout",
     "output_type": "stream",
     "text": [
      "10\n",
      "8\n",
      "6\n",
      "4\n",
      "2\n"
     ]
    }
   ],
   "source": [
    "for i in range(10, 0, -2):\n",
    "    print(i)"
   ]
  },
  {
   "cell_type": "markdown",
   "id": "4c856273",
   "metadata": {},
   "source": [
    "# Math"
   ]
  },
  {
   "cell_type": "markdown",
   "id": "ef1b8f41",
   "metadata": {},
   "source": [
    "In python, the division by default will be the decimal division, but most other languages use integer division. "
   ]
  },
  {
   "cell_type": "code",
   "execution_count": null,
   "id": "50a2b0f8",
   "metadata": {},
   "outputs": [
    {
     "name": "stdout",
     "output_type": "stream",
     "text": [
      "2.5\n"
     ]
    }
   ],
   "source": [
    "print(5/2)"
   ]
  },
  {
   "cell_type": "markdown",
   "id": "84fd3c47",
   "metadata": {},
   "source": [
    "For integer division we gotta use // double-slash"
   ]
  },
  {
   "cell_type": "code",
   "execution_count": null,
   "id": "9da49bb1",
   "metadata": {},
   "outputs": [
    {
     "name": "stdout",
     "output_type": "stream",
     "text": [
      "2\n"
     ]
    }
   ],
   "source": [
    "print(5//2)"
   ]
  },
  {
   "cell_type": "markdown",
   "id": "602027a6",
   "metadata": {},
   "source": [
    "Note: In python, the integer division always rounds down. This is a problem when negetive numbers come into picture. "
   ]
  },
  {
   "cell_type": "code",
   "execution_count": null,
   "id": "84c355cf",
   "metadata": {},
   "outputs": [
    {
     "name": "stdout",
     "output_type": "stream",
     "text": [
      "-3\n"
     ]
    }
   ],
   "source": [
    "print(-5//2)\n",
    "#the actual answer is -2.5 according to decimal division.\n",
    "#Most of the other languages will give us -2 as the answer\n",
    "# But since python always rounds down -2.5 becomes -3 as it is the closest integer less than -2.5"
   ]
  },
  {
   "cell_type": "code",
   "execution_count": null,
   "id": "505c9778",
   "metadata": {},
   "outputs": [
    {
     "name": "stdout",
     "output_type": "stream",
     "text": [
      "-2\n"
     ]
    }
   ],
   "source": [
    "#Quick fix for this is, do normal division then convert it to int\n",
    "print(int(-5/2))"
   ]
  },
  {
   "cell_type": "markdown",
   "id": "40906906",
   "metadata": {},
   "source": [
    "This is the same problem with modulus operation"
   ]
  },
  {
   "cell_type": "code",
   "execution_count": null,
   "id": "2a2db057",
   "metadata": {},
   "outputs": [
    {
     "name": "stdout",
     "output_type": "stream",
     "text": [
      "1\n",
      "2\n"
     ]
    }
   ],
   "source": [
    "print(10%3)\n",
    "print(-10%3) #We expect -1 as the answer but get -2 instead"
   ]
  },
  {
   "cell_type": "markdown",
   "id": "4c8f1ae3",
   "metadata": {},
   "source": [
    "The above issue can be fixed with an inbuilt python function called 'fmod'. "
   ]
  },
  {
   "cell_type": "code",
   "execution_count": null,
   "id": "e97ef305",
   "metadata": {},
   "outputs": [
    {
     "name": "stdout",
     "output_type": "stream",
     "text": [
      "-1.0\n"
     ]
    }
   ],
   "source": [
    "import math\n",
    "print(math.fmod(-10, 3))"
   ]
  },
  {
   "cell_type": "markdown",
   "id": "7a43edc8",
   "metadata": {},
   "source": [
    "The following are some more math helpers"
   ]
  },
  {
   "cell_type": "code",
   "execution_count": null,
   "id": "cefc49a2",
   "metadata": {},
   "outputs": [
    {
     "name": "stdout",
     "output_type": "stream",
     "text": [
      "1\n",
      "2\n",
      "2.0\n",
      "8.0\n"
     ]
    }
   ],
   "source": [
    "# rounding down to an integer\n",
    "print(math.floor(3/2))\n",
    "\n",
    "#rounding up to an integer\n",
    "print(math.ceil(3/2))\n",
    "\n",
    "#take a square root\n",
    "print(math.sqrt(4))\n",
    "\n",
    "#taking a power\n",
    "print(math.pow(2, 3)) # 2 raised to the power of 3"
   ]
  },
  {
   "cell_type": "markdown",
   "id": "eb1b7582",
   "metadata": {},
   "source": [
    "In python the numbers actually range from -infinity to +infinity. So if we wanna declare a maximum number or minimum number we can use this concept"
   ]
  },
  {
   "cell_type": "code",
   "execution_count": null,
   "id": "35ffb28f",
   "metadata": {},
   "outputs": [
    {
     "name": "stdout",
     "output_type": "stream",
     "text": [
      "True\n"
     ]
    }
   ],
   "source": [
    "print(float(\"-inf\")<0)"
   ]
  },
  {
   "cell_type": "code",
   "execution_count": null,
   "id": "28af95ea",
   "metadata": {},
   "outputs": [
    {
     "name": "stdout",
     "output_type": "stream",
     "text": [
      "True\n"
     ]
    }
   ],
   "source": [
    "print(float(\"inf\")>math.pow(2, 90))"
   ]
  },
  {
   "cell_type": "markdown",
   "id": "1af85bbc",
   "metadata": {},
   "source": [
    "# Lists in Python (AKA Arrays)"
   ]
  },
  {
   "cell_type": "code",
   "execution_count": 25,
   "id": "824bf113",
   "metadata": {},
   "outputs": [
    {
     "name": "stdout",
     "output_type": "stream",
     "text": [
      "[1, 2, 3, 4]\n"
     ]
    }
   ],
   "source": [
    "arr = [1, 2, 3, 4]\n",
    "print(arr)"
   ]
  },
  {
   "cell_type": "markdown",
   "id": "111d7e60",
   "metadata": {},
   "source": [
    "In python, the arrays are dynamic in nature. So we do not need to have a fixed size specified. We can also push some element to the array using append. And can remove the last element from the array using pop.\n",
    "These arrays work similar to a stack. aka LIFO"
   ]
  },
  {
   "cell_type": "code",
   "execution_count": 26,
   "id": "774baf69",
   "metadata": {},
   "outputs": [
    {
     "name": "stdout",
     "output_type": "stream",
     "text": [
      "[1, 2, 3, 4, 5, 6]\n",
      "[1, 2, 3, 4, 5]\n"
     ]
    }
   ],
   "source": [
    "arr.append(5)\n",
    "arr.append(6)\n",
    "print(arr)\n",
    "arr.pop()\n",
    "print(arr)"
   ]
  },
  {
   "cell_type": "markdown",
   "id": "0421bc96",
   "metadata": {},
   "source": [
    "So even though push and pop make array act like a stack since it is an array we can insert elements into a desired index as well\n",
    "\n",
    "Remember insert operation has the time complexity of O(n)"
   ]
  },
  {
   "cell_type": "code",
   "execution_count": null,
   "id": "0f29a9bd",
   "metadata": {},
   "outputs": [
    {
     "name": "stdout",
     "output_type": "stream",
     "text": [
      "[1, 1.5, 2, 3, 4, 5]\n"
     ]
    }
   ],
   "source": [
    "arr.insert(1, 1.5) #insert 1.5 at index 1\n",
    "print(arr)"
   ]
  },
  {
   "cell_type": "code",
   "execution_count": null,
   "id": "d01e2747",
   "metadata": {},
   "outputs": [],
   "source": []
  }
 ],
 "metadata": {
  "kernelspec": {
   "display_name": "Python 3",
   "language": "python",
   "name": "python3"
  },
  "language_info": {
   "codemirror_mode": {
    "name": "ipython",
    "version": 3
   },
   "file_extension": ".py",
   "mimetype": "text/x-python",
   "name": "python",
   "nbconvert_exporter": "python",
   "pygments_lexer": "ipython3",
   "version": "3.12.1"
  }
 },
 "nbformat": 4,
 "nbformat_minor": 5
}
