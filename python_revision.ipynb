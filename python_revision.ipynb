{
 "cells": [
  {
   "cell_type": "markdown",
   "id": "cde0dabf",
   "metadata": {},
   "source": [
    "# Variables"
   ]
  },
  {
   "cell_type": "markdown",
   "id": "8eea46ff",
   "metadata": {},
   "source": [
    "Variables in python are \"Dynamically Typed.\" Implies we don't have to specify the data type at all."
   ]
  },
  {
   "cell_type": "code",
   "execution_count": 16,
   "id": "943f81eb",
   "metadata": {},
   "outputs": [],
   "source": [
    "n = 0 \n",
    "#automatically setting data type as int"
   ]
  },
  {
   "cell_type": "code",
   "execution_count": 17,
   "id": "098bc514",
   "metadata": {},
   "outputs": [
    {
     "name": "stdout",
     "output_type": "stream",
     "text": [
      "n =  0\n"
     ]
    }
   ],
   "source": [
    "print('n = ', n)"
   ]
  },
  {
   "cell_type": "markdown",
   "id": "af1c3e19",
   "metadata": {},
   "source": [
    "In python the type is determined at runtime. So we can reassign a variable to a value of different datatype. "
   ]
  },
  {
   "cell_type": "code",
   "execution_count": 18,
   "id": "118835ee",
   "metadata": {},
   "outputs": [
    {
     "name": "stdout",
     "output_type": "stream",
     "text": [
      "n =  abc\n"
     ]
    }
   ],
   "source": [
    "n = 'abc'\n",
    "print('n = ', n)"
   ]
  },
  {
   "cell_type": "markdown",
   "id": "31ea7df9",
   "metadata": {},
   "source": [
    "We can do multiple assignments of variables in a single line of code. These variables can be of different data types. LHS will be the variable name, RHS will be the value."
   ]
  },
  {
   "cell_type": "code",
   "execution_count": 19,
   "id": "536900ea",
   "metadata": {},
   "outputs": [
    {
     "name": "stdout",
     "output_type": "stream",
     "text": [
      "True\n"
     ]
    }
   ],
   "source": [
    "a, b, c = 89, \"wow\", True\n",
    "print(c)"
   ]
  },
  {
   "cell_type": "markdown",
   "id": "105b797c",
   "metadata": {},
   "source": [
    "Incrementing variables in Python. Cannot do the '++' or '--' operation."
   ]
  },
  {
   "cell_type": "code",
   "execution_count": 20,
   "id": "eafec8ee",
   "metadata": {},
   "outputs": [
    {
     "name": "stdout",
     "output_type": "stream",
     "text": [
      "90\n"
     ]
    }
   ],
   "source": [
    "a = a + 1\n",
    "print (a)"
   ]
  },
  {
   "cell_type": "code",
   "execution_count": 21,
   "id": "2224bc11",
   "metadata": {},
   "outputs": [
    {
     "name": "stdout",
     "output_type": "stream",
     "text": [
      "91\n"
     ]
    }
   ],
   "source": [
    "a += 1\n",
    "print(a)"
   ]
  },
  {
   "cell_type": "code",
   "execution_count": 22,
   "id": "b7bca6a1",
   "metadata": {},
   "outputs": [
    {
     "ename": "SyntaxError",
     "evalue": "invalid syntax (3185148293.py, line 2)",
     "output_type": "error",
     "traceback": [
      "  \u001b[36mCell\u001b[39m\u001b[36m \u001b[39m\u001b[32mIn[22]\u001b[39m\u001b[32m, line 2\u001b[39m\n\u001b[31m    \u001b[39m\u001b[31ma++\u001b[39m\n       ^\n\u001b[31mSyntaxError\u001b[39m\u001b[31m:\u001b[39m invalid syntax\n"
     ]
    }
   ],
   "source": [
    "#the following way of incrementing is not allowed\n",
    "a++\n",
    "print(a)"
   ]
  },
  {
   "cell_type": "markdown",
   "id": "812d352d",
   "metadata": {},
   "source": [
    "Python also has a null variable called 'None' which means absence of a value. "
   ]
  },
  {
   "cell_type": "code",
   "execution_count": null,
   "id": "8cf465cd",
   "metadata": {},
   "outputs": [
    {
     "name": "stdout",
     "output_type": "stream",
     "text": [
      "None\n"
     ]
    }
   ],
   "source": [
    "x = None\n",
    "print(x)"
   ]
  },
  {
   "cell_type": "markdown",
   "id": "9d7f2464",
   "metadata": {},
   "source": [
    "# If Statements"
   ]
  },
  {
   "cell_type": "markdown",
   "id": "409c7ef4",
   "metadata": {},
   "source": [
    "Works same as the other languages, but we don't need any parantheses or curly braces. However indentation is super important. We always put a colon after the condition. 'elif' is the keyword for else if. 'else' remains the same. "
   ]
  },
  {
   "cell_type": "code",
   "execution_count": 23,
   "id": "52099947",
   "metadata": {},
   "outputs": [
    {
     "name": "stdout",
     "output_type": "stream",
     "text": [
      "World\n"
     ]
    }
   ],
   "source": [
    "n = 5\n",
    "if n<5:\n",
    "    print(\"Hello\")\n",
    "elif n==5:\n",
    "    print(\"World\")\n",
    "else:\n",
    "    print(\"Boo\")\n"
   ]
  },
  {
   "cell_type": "markdown",
   "id": "3adc336c",
   "metadata": {},
   "source": [
    "We need parenthesis only for multi=line conditions. In python we have operands like AND and OR and they are simply written using 'and' and 'or' as keywords respectively"
   ]
  },
  {
   "cell_type": "code",
   "execution_count": 24,
   "id": "e865ee54",
   "metadata": {},
   "outputs": [
    {
     "name": "stdout",
     "output_type": "stream",
     "text": [
      "10  is divisible by 2 and 5\n"
     ]
    }
   ],
   "source": [
    "n=10\n",
    "if (n%2==0 and n%5==0):\n",
    "    print(n,\" is divisible by 2 and 5\")"
   ]
  },
  {
   "cell_type": "markdown",
   "id": "c7557e35",
   "metadata": {},
   "source": [
    "# Loops"
   ]
  },
  {
   "cell_type": "markdown",
   "id": "35ec492a",
   "metadata": {},
   "source": [
    "'While' loops are pretty similar to other languages. Again indentation is important here."
   ]
  },
  {
   "cell_type": "code",
   "execution_count": null,
   "id": "7f69d02c",
   "metadata": {},
   "outputs": [
    {
     "name": "stdout",
     "output_type": "stream",
     "text": [
      "6\n"
     ]
    }
   ],
   "source": [
    "n = 1\n",
    "while n<=5:\n",
    "    n+=1\n",
    "print(n)"
   ]
  },
  {
   "cell_type": "markdown",
   "id": "1edfc9e6",
   "metadata": {},
   "source": [
    "For 'for' loop we need to specify something called as a range. wherein our variable will start from the assigned value and there is automatic incrementing until the range-value is reached. Remember the loop stops execution when the range-value is reached"
   ]
  },
  {
   "cell_type": "code",
   "execution_count": null,
   "id": "ed4fc593",
   "metadata": {},
   "outputs": [
    {
     "name": "stdout",
     "output_type": "stream",
     "text": [
      "0\n",
      "1\n",
      "2\n",
      "3\n",
      "4\n"
     ]
    }
   ],
   "source": [
    "for i in range(5):\n",
    "    print(i)\n",
    "#the value 5 won't be printed."
   ]
  },
  {
   "cell_type": "markdown",
   "id": "25dc1cdc",
   "metadata": {},
   "source": [
    "Range can also be specified as a (start-number, end-number)"
   ]
  },
  {
   "cell_type": "code",
   "execution_count": null,
   "id": "be3afada",
   "metadata": {},
   "outputs": [
    {
     "name": "stdout",
     "output_type": "stream",
     "text": [
      "2\n",
      "3\n",
      "4\n",
      "5\n"
     ]
    }
   ],
   "source": [
    "for i in range (2, 6):\n",
    "    print(i)\n",
    "#last-number is not included"
   ]
  },
  {
   "cell_type": "markdown",
   "id": "3f75f81a",
   "metadata": {},
   "source": [
    "These for loops can be made to auto-decrement as well. This can be done by adding an additional arguement in the range '-1'"
   ]
  },
  {
   "cell_type": "code",
   "execution_count": null,
   "id": "aa7db572",
   "metadata": {},
   "outputs": [
    {
     "name": "stdout",
     "output_type": "stream",
     "text": [
      "5\n",
      "4\n",
      "3\n",
      "2\n",
      "1\n"
     ]
    }
   ],
   "source": [
    "for i in range(5, 0, -1):\n",
    "    print(i)"
   ]
  },
  {
   "cell_type": "markdown",
   "id": "868a34a4",
   "metadata": {},
   "source": [
    "Say if we wanna decrement by 2, we pass -2 as the last argument"
   ]
  },
  {
   "cell_type": "code",
   "execution_count": null,
   "id": "9ac3be4d",
   "metadata": {},
   "outputs": [
    {
     "name": "stdout",
     "output_type": "stream",
     "text": [
      "10\n",
      "8\n",
      "6\n",
      "4\n",
      "2\n"
     ]
    }
   ],
   "source": [
    "for i in range(10, 0, -2):\n",
    "    print(i)"
   ]
  },
  {
   "cell_type": "markdown",
   "id": "4c856273",
   "metadata": {},
   "source": [
    "# Math"
   ]
  },
  {
   "cell_type": "markdown",
   "id": "ef1b8f41",
   "metadata": {},
   "source": [
    "In python, the division by default will be the decimal division, but most other languages use integer division. "
   ]
  },
  {
   "cell_type": "code",
   "execution_count": null,
   "id": "50a2b0f8",
   "metadata": {},
   "outputs": [
    {
     "name": "stdout",
     "output_type": "stream",
     "text": [
      "2.5\n"
     ]
    }
   ],
   "source": [
    "print(5/2)"
   ]
  },
  {
   "cell_type": "markdown",
   "id": "84fd3c47",
   "metadata": {},
   "source": [
    "For integer division we gotta use // double-slash"
   ]
  },
  {
   "cell_type": "code",
   "execution_count": null,
   "id": "9da49bb1",
   "metadata": {},
   "outputs": [
    {
     "name": "stdout",
     "output_type": "stream",
     "text": [
      "2\n"
     ]
    }
   ],
   "source": [
    "print(5//2)"
   ]
  },
  {
   "cell_type": "markdown",
   "id": "602027a6",
   "metadata": {},
   "source": [
    "Note: In python, the integer division always rounds down. This is a problem when negetive numbers come into picture. "
   ]
  },
  {
   "cell_type": "code",
   "execution_count": null,
   "id": "84c355cf",
   "metadata": {},
   "outputs": [
    {
     "name": "stdout",
     "output_type": "stream",
     "text": [
      "-3\n"
     ]
    }
   ],
   "source": [
    "print(-5//2)\n",
    "#the actual answer is -2.5 according to decimal division.\n",
    "#Most of the other languages will give us -2 as the answer\n",
    "# But since python always rounds down -2.5 becomes -3 as it is the closest integer less than -2.5"
   ]
  },
  {
   "cell_type": "code",
   "execution_count": null,
   "id": "505c9778",
   "metadata": {},
   "outputs": [
    {
     "name": "stdout",
     "output_type": "stream",
     "text": [
      "-2\n"
     ]
    }
   ],
   "source": [
    "#Quick fix for this is, do normal division then convert it to int\n",
    "print(int(-5/2))"
   ]
  },
  {
   "cell_type": "markdown",
   "id": "40906906",
   "metadata": {},
   "source": [
    "This is the same problem with modulus operation"
   ]
  },
  {
   "cell_type": "code",
   "execution_count": null,
   "id": "2a2db057",
   "metadata": {},
   "outputs": [
    {
     "name": "stdout",
     "output_type": "stream",
     "text": [
      "1\n",
      "2\n"
     ]
    }
   ],
   "source": [
    "print(10%3)\n",
    "print(-10%3) #We expect -1 as the answer but get -2 instead"
   ]
  },
  {
   "cell_type": "markdown",
   "id": "4c8f1ae3",
   "metadata": {},
   "source": [
    "The above issue can be fixed with an inbuilt python function called 'fmod'. "
   ]
  },
  {
   "cell_type": "code",
   "execution_count": null,
   "id": "e97ef305",
   "metadata": {},
   "outputs": [
    {
     "name": "stdout",
     "output_type": "stream",
     "text": [
      "-1.0\n"
     ]
    }
   ],
   "source": [
    "import math\n",
    "print(math.fmod(-10, 3))"
   ]
  },
  {
   "cell_type": "markdown",
   "id": "7a43edc8",
   "metadata": {},
   "source": [
    "The following are some more math helpers"
   ]
  },
  {
   "cell_type": "code",
   "execution_count": null,
   "id": "cefc49a2",
   "metadata": {},
   "outputs": [
    {
     "name": "stdout",
     "output_type": "stream",
     "text": [
      "1\n",
      "2\n",
      "2.0\n",
      "8.0\n"
     ]
    }
   ],
   "source": [
    "# rounding down to an integer\n",
    "print(math.floor(3/2))\n",
    "\n",
    "#rounding up to an integer\n",
    "print(math.ceil(3/2))\n",
    "\n",
    "#take a square root\n",
    "print(math.sqrt(4))\n",
    "\n",
    "#taking a power\n",
    "print(math.pow(2, 3)) # 2 raised to the power of 3"
   ]
  },
  {
   "cell_type": "markdown",
   "id": "eb1b7582",
   "metadata": {},
   "source": [
    "In python the numbers actually range from -infinity to +infinity. So if we wanna declare a maximum number or minimum number we can use this concept"
   ]
  },
  {
   "cell_type": "code",
   "execution_count": null,
   "id": "35ffb28f",
   "metadata": {},
   "outputs": [
    {
     "name": "stdout",
     "output_type": "stream",
     "text": [
      "True\n"
     ]
    }
   ],
   "source": [
    "print(float(\"-inf\")<0)"
   ]
  },
  {
   "cell_type": "code",
   "execution_count": null,
   "id": "28af95ea",
   "metadata": {},
   "outputs": [
    {
     "name": "stdout",
     "output_type": "stream",
     "text": [
      "True\n"
     ]
    }
   ],
   "source": [
    "print(float(\"inf\")>math.pow(2, 90))"
   ]
  },
  {
   "cell_type": "markdown",
   "id": "1af85bbc",
   "metadata": {},
   "source": [
    "# Lists in Python (AKA Arrays)"
   ]
  },
  {
   "cell_type": "code",
   "execution_count": 25,
   "id": "824bf113",
   "metadata": {},
   "outputs": [
    {
     "name": "stdout",
     "output_type": "stream",
     "text": [
      "[1, 2, 3, 4]\n"
     ]
    }
   ],
   "source": [
    "arr = [1, 2, 3, 4]\n",
    "print(arr)"
   ]
  },
  {
   "cell_type": "markdown",
   "id": "111d7e60",
   "metadata": {},
   "source": [
    "In python, the arrays are dynamic in nature. So we do not need to have a fixed size specified. We can also push some element to the array using append. And can remove the last element from the array using pop.\n",
    "These arrays work similar to a stack. aka LIFO"
   ]
  },
  {
   "cell_type": "code",
   "execution_count": 26,
   "id": "774baf69",
   "metadata": {},
   "outputs": [
    {
     "name": "stdout",
     "output_type": "stream",
     "text": [
      "[1, 2, 3, 4, 5, 6]\n",
      "[1, 2, 3, 4, 5]\n"
     ]
    }
   ],
   "source": [
    "arr.append(5)\n",
    "arr.append(6)\n",
    "print(arr)\n",
    "arr.pop()\n",
    "print(arr)"
   ]
  },
  {
   "cell_type": "markdown",
   "id": "0421bc96",
   "metadata": {},
   "source": [
    "So even though push and pop make array act like a stack since it is an array we can insert elements into a desired index as well\n",
    "\n",
    "Remember insert operation has the time complexity of O(n)"
   ]
  },
  {
   "cell_type": "code",
   "execution_count": null,
   "id": "0f29a9bd",
   "metadata": {},
   "outputs": [
    {
     "name": "stdout",
     "output_type": "stream",
     "text": [
      "[1, 1.5, 2, 3, 4, 5]\n"
     ]
    }
   ],
   "source": [
    "arr.insert(1, 1.5) #insert 1.5 at index 1\n",
    "print(arr)"
   ]
  },
  {
   "cell_type": "markdown",
   "id": "0882dbd3",
   "metadata": {},
   "source": [
    "If we want a constant time operation of complexity O(1) we can do so by manually inserting an element into the array."
   ]
  },
  {
   "cell_type": "code",
   "execution_count": 28,
   "id": "d01e2747",
   "metadata": {},
   "outputs": [
    {
     "name": "stdout",
     "output_type": "stream",
     "text": [
      "[1, 1.75, 2, 3, 4, 5]\n"
     ]
    }
   ],
   "source": [
    "arr[1] = 1.75\n",
    "print(arr)"
   ]
  },
  {
   "cell_type": "markdown",
   "id": "0f6e1527",
   "metadata": {},
   "source": [
    "To create an array of n-elements with one particular constant value we can use the multiplication operation."
   ]
  },
  {
   "cell_type": "code",
   "execution_count": 30,
   "id": "90f1af3a",
   "metadata": {},
   "outputs": [
    {
     "name": "stdout",
     "output_type": "stream",
     "text": [
      "[5, 5, 5, 5, 5, 5, 5, 5, 5, 5]\n",
      "10\n"
     ]
    }
   ],
   "source": [
    "n = 10\n",
    "arr = [5] * n\n",
    "print(arr)\n",
    "print(len(arr))"
   ]
  },
  {
   "cell_type": "markdown",
   "id": "18a435c4",
   "metadata": {},
   "source": [
    "In python, we can have negetive index for an array. For instance when we say -1 it means the last element of the array, -2 means the second last element and so on"
   ]
  },
  {
   "cell_type": "code",
   "execution_count": 31,
   "id": "07dfa0d2",
   "metadata": {},
   "outputs": [
    {
     "name": "stdout",
     "output_type": "stream",
     "text": [
      "5\n"
     ]
    }
   ],
   "source": [
    "arr = [1, 2, 3, 4, 5]\n",
    "print(arr[-1])"
   ]
  },
  {
   "cell_type": "markdown",
   "id": "938e34f9",
   "metadata": {},
   "source": [
    "Slicing an array means getting a sub-list out of the current list(array)"
   ]
  },
  {
   "cell_type": "code",
   "execution_count": 37,
   "id": "9712b5df",
   "metadata": {},
   "outputs": [
    {
     "name": "stdout",
     "output_type": "stream",
     "text": [
      "[1, 2, 3, 4, 5, 6, 7, 8, 9, 10]\n",
      "[2, 3, 4, 5, 6]\n"
     ]
    }
   ],
   "source": [
    "arr = []\n",
    "for i in range(1, 11):\n",
    "    arr.append(i)\n",
    "print(arr)\n",
    "\n",
    "sliced_arr = arr[1:6] #get s subarray from index 1 to index 5, not include index 6\n",
    "print(sliced_arr)"
   ]
  },
  {
   "cell_type": "markdown",
   "id": "940bb8fd",
   "metadata": {},
   "source": [
    "Unpacking in an array means assigning each element to a different variable. Careful tho, the number of the variables on LHS should match the values on RHS"
   ]
  },
  {
   "cell_type": "code",
   "execution_count": 38,
   "id": "5676fbc6",
   "metadata": {},
   "outputs": [
    {
     "name": "stdout",
     "output_type": "stream",
     "text": [
      "1 2 3\n"
     ]
    }
   ],
   "source": [
    "a, b, c = [1,2,3]\n",
    "print(a, b, c)"
   ]
  },
  {
   "cell_type": "markdown",
   "id": "296b1c45",
   "metadata": {},
   "source": [
    "The following is the way through which we can enumerate through a python list"
   ]
  },
  {
   "cell_type": "code",
   "execution_count": 4,
   "id": "15213da9",
   "metadata": {},
   "outputs": [
    {
     "name": "stdout",
     "output_type": "stream",
     "text": [
      "1\n",
      "2\n",
      "3\n",
      "4\n",
      "5\n",
      "1\n",
      "2\n",
      "3\n",
      "4\n",
      "5\n",
      "0 1\n",
      "1 2\n",
      "2 3\n",
      "3 4\n",
      "4 5\n"
     ]
    }
   ],
   "source": [
    "arr = [1, 2, 3, 4, 5]\n",
    "\n",
    "#using index\n",
    "for i in range(len(arr)):\n",
    "    print(arr[i])\n",
    "\n",
    "#without the index\n",
    "for i in arr:\n",
    "    print(i)\n",
    "\n",
    "# both the index and value use the enumerate function\n",
    "for i,n in enumerate(arr):\n",
    "    print(i, n)"
   ]
  },
  {
   "cell_type": "markdown",
   "id": "0e210134",
   "metadata": {},
   "source": [
    "When we want to loop through multiple arrays simulataneously, we use the zip function"
   ]
  },
  {
   "cell_type": "code",
   "execution_count": 5,
   "id": "a690c306",
   "metadata": {},
   "outputs": [
    {
     "name": "stdout",
     "output_type": "stream",
     "text": [
      "1 2\n",
      "3 4\n",
      "5 6\n"
     ]
    }
   ],
   "source": [
    "arr1 = [1, 3, 5]\n",
    "arr2 = [2, 4, 6]\n",
    "for n1, n2 in zip(arr1, arr2):\n",
    "    print(n1, n2)"
   ]
  },
  {
   "cell_type": "markdown",
   "id": "7a891572",
   "metadata": {},
   "source": [
    "For reversing an array we use the reverse function"
   ]
  },
  {
   "cell_type": "code",
   "execution_count": 7,
   "id": "1797d52e",
   "metadata": {},
   "outputs": [
    {
     "name": "stdout",
     "output_type": "stream",
     "text": [
      "[3, 2, 1]\n"
     ]
    }
   ],
   "source": [
    "arr = [1, 2, 3]\n",
    "arr.reverse()\n",
    "print(arr)"
   ]
  },
  {
   "cell_type": "markdown",
   "id": "b0f21553",
   "metadata": {},
   "source": [
    "To sort an array in acending order we use the .sort() function. For descending order we pass a parameter reverse=True and we get in descending order."
   ]
  },
  {
   "cell_type": "code",
   "execution_count": 10,
   "id": "ef53ea1f",
   "metadata": {},
   "outputs": [
    {
     "name": "stdout",
     "output_type": "stream",
     "text": [
      "[1, 2, 4, 5, 9]\n",
      "[9, 5, 4, 2, 1]\n"
     ]
    }
   ],
   "source": [
    "arr = [4, 9, 2, 1, 5]\n",
    "arr.sort()\n",
    "print(arr)\n",
    "arr.sort(reverse=True)\n",
    "print(arr)"
   ]
  },
  {
   "cell_type": "markdown",
   "id": "0a08b56e",
   "metadata": {},
   "source": [
    "We can sort a string array. If we use .sort() it will sort alphabetically. If we wanna sort using the length of each string we can do it using lambda function. "
   ]
  },
  {
   "cell_type": "code",
   "execution_count": 11,
   "id": "eb785b5e",
   "metadata": {},
   "outputs": [
    {
     "name": "stdout",
     "output_type": "stream",
     "text": [
      "['apple', 'banana', 'grape', 'strawberry']\n"
     ]
    }
   ],
   "source": [
    "arr = ['banana', 'apple', 'strawberry', 'grape']\n",
    "arr.sort()\n",
    "print(arr)"
   ]
  },
  {
   "cell_type": "code",
   "execution_count": 12,
   "id": "dd64127c",
   "metadata": {},
   "outputs": [
    {
     "name": "stdout",
     "output_type": "stream",
     "text": [
      "['apple', 'grape', 'banana', 'strawberry']\n"
     ]
    }
   ],
   "source": [
    "arr.sort(key=lambda x:len(x))\n",
    "print(arr)"
   ]
  },
  {
   "cell_type": "markdown",
   "id": "1e93bccf",
   "metadata": {},
   "source": [
    "# List Comprehension"
   ]
  },
  {
   "cell_type": "markdown",
   "id": "1fc026e3",
   "metadata": {},
   "source": [
    "We can make an array in single line using list comprehension. This basically means we are trying to implement a for loop within the list"
   ]
  },
  {
   "cell_type": "code",
   "execution_count": null,
   "id": "293f2823",
   "metadata": {},
   "outputs": [
    {
     "name": "stdout",
     "output_type": "stream",
     "text": [
      "[0, 2, 4, 6, 8, 10, 12, 14, 16, 18, 20]\n"
     ]
    }
   ],
   "source": [
    "arr = [i for i in range(11)]\n",
    "print(arr)"
   ]
  },
  {
   "cell_type": "code",
   "execution_count": 15,
   "id": "023c2fef",
   "metadata": {},
   "outputs": [],
   "source": [
    "# to create a 2D list aka matrix using list comprehension\n",
    "arr = [[1]*4 for i in range(4)]"
   ]
  },
  {
   "cell_type": "code",
   "execution_count": 16,
   "id": "57abcd02",
   "metadata": {},
   "outputs": [
    {
     "name": "stdout",
     "output_type": "stream",
     "text": [
      "[[1, 1, 1, 1], [1, 1, 1, 1], [1, 1, 1, 1], [1, 1, 1, 1]]\n"
     ]
    }
   ],
   "source": [
    "print(arr)"
   ]
  },
  {
   "cell_type": "markdown",
   "id": "704549e5",
   "metadata": {},
   "source": [
    "# Strings in Python"
   ]
  },
  {
   "cell_type": "markdown",
   "id": "8b2aa038",
   "metadata": {},
   "source": [
    "Similar to arrays in most sense. But are immutable, so we cannnot just randomly change one element from the string. We can add onto a string or update it, but it always creates a new string. "
   ]
  },
  {
   "cell_type": "code",
   "execution_count": 1,
   "id": "5c4195b9",
   "metadata": {},
   "outputs": [
    {
     "name": "stdout",
     "output_type": "stream",
     "text": [
      "Hello\n",
      "Hello World\n"
     ]
    }
   ],
   "source": [
    "str1 = \"Hello\"\n",
    "print(str1)\n",
    "\n",
    "str1 += \" World\"\n",
    "print(str1)"
   ]
  },
  {
   "cell_type": "markdown",
   "id": "975fac55",
   "metadata": {},
   "source": [
    "Numeric strings can be converted to integers and integers can be converted to numeric strings."
   ]
  },
  {
   "cell_type": "code",
   "execution_count": 2,
   "id": "c643fe0f",
   "metadata": {},
   "outputs": [
    {
     "name": "stdout",
     "output_type": "stream",
     "text": [
      "246\n",
      "123123\n"
     ]
    }
   ],
   "source": [
    "print((int(\"123\") + int(\"123\")))\n",
    "\n",
    "print(str(123) + str(123))"
   ]
  },
  {
   "cell_type": "markdown",
   "id": "146590d7",
   "metadata": {},
   "source": [
    "ord function helps us to get ASCII value of a character."
   ]
  },
  {
   "cell_type": "code",
   "execution_count": 3,
   "id": "a5fa245a",
   "metadata": {},
   "outputs": [
    {
     "name": "stdout",
     "output_type": "stream",
     "text": [
      "195\n"
     ]
    }
   ],
   "source": [
    "print(ord('a') + ord('b'))"
   ]
  },
  {
   "cell_type": "markdown",
   "id": "322d80d9",
   "metadata": {},
   "source": [
    "We can join the strings together by specifing a delimiter"
   ]
  },
  {
   "cell_type": "code",
   "execution_count": 4,
   "id": "b83dccf2",
   "metadata": {},
   "outputs": [
    {
     "name": "stdout",
     "output_type": "stream",
     "text": [
      "HelloWorld\n"
     ]
    }
   ],
   "source": [
    "string = ['Hello', 'World']\n",
    "stringyy = ''.join(string)\n",
    "print(stringyy)"
   ]
  },
  {
   "cell_type": "markdown",
   "id": "36dce70c",
   "metadata": {},
   "source": [
    "# Queues In Python"
   ]
  },
  {
   "cell_type": "markdown",
   "id": "be9cd5d7",
   "metadata": {},
   "source": [
    "By default we have double-ended queues in python. "
   ]
  },
  {
   "cell_type": "code",
   "execution_count": 9,
   "id": "e71fecca",
   "metadata": {},
   "outputs": [],
   "source": [
    "from collections import deque\n",
    "\n",
    "#creating a queue\n",
    "queue = deque()"
   ]
  },
  {
   "cell_type": "code",
   "execution_count": 10,
   "id": "fa903d40",
   "metadata": {},
   "outputs": [
    {
     "name": "stdout",
     "output_type": "stream",
     "text": [
      "deque([1, 2, 3])\n"
     ]
    }
   ],
   "source": [
    "#adding elements to the queue\n",
    "queue.append(1)\n",
    "queue.append(2)\n",
    "queue.append(3)\n",
    "print(queue)"
   ]
  },
  {
   "cell_type": "code",
   "execution_count": 11,
   "id": "1fc98b68",
   "metadata": {},
   "outputs": [
    {
     "name": "stdout",
     "output_type": "stream",
     "text": [
      "deque([0, 1, 2, 3])\n"
     ]
    }
   ],
   "source": [
    "# adding elements to the start of the queue\n",
    "queue.appendleft(0)\n",
    "print(queue)"
   ]
  },
  {
   "cell_type": "code",
   "execution_count": 12,
   "id": "7fe2ae06",
   "metadata": {},
   "outputs": [
    {
     "name": "stdout",
     "output_type": "stream",
     "text": [
      "deque([0, 1, 2])\n"
     ]
    }
   ],
   "source": [
    "#removing elements from the queue\n",
    "queue.pop()\n",
    "print(queue)"
   ]
  },
  {
   "cell_type": "code",
   "execution_count": 13,
   "id": "94d1390d",
   "metadata": {},
   "outputs": [
    {
     "name": "stdout",
     "output_type": "stream",
     "text": [
      "deque([1, 2])\n"
     ]
    }
   ],
   "source": [
    "#removing elements from the start of the queue\n",
    "queue.popleft()\n",
    "print(queue)"
   ]
  },
  {
   "cell_type": "markdown",
   "id": "92614ebc",
   "metadata": {},
   "source": [
    "# HashSets in Python"
   ]
  },
  {
   "cell_type": "markdown",
   "id": "88a27c90",
   "metadata": {},
   "source": [
    "Really nice because we can insert values in constant time and also remove values in a constant time. Difference between list and hashset is that hashset doesn't allow any duplicates. "
   ]
  },
  {
   "cell_type": "code",
   "execution_count": 14,
   "id": "9076a67d",
   "metadata": {},
   "outputs": [
    {
     "name": "stdout",
     "output_type": "stream",
     "text": [
      "{1, 2, 3}\n"
     ]
    }
   ],
   "source": [
    "# creating a hashset\n",
    "\n",
    "hs = set()\n",
    "\n",
    "#adding an element into a hashset\n",
    "hs.add(1)\n",
    "hs.add(2)\n",
    "hs.add(3)\n",
    "\n",
    "print(hs)"
   ]
  },
  {
   "cell_type": "code",
   "execution_count": 15,
   "id": "ac66710a",
   "metadata": {},
   "outputs": [
    {
     "name": "stdout",
     "output_type": "stream",
     "text": [
      "3\n"
     ]
    }
   ],
   "source": [
    "# getting length of the hashset\n",
    "print(len(hs))"
   ]
  },
  {
   "cell_type": "code",
   "execution_count": 16,
   "id": "ef25fa4f",
   "metadata": {},
   "outputs": [
    {
     "name": "stdout",
     "output_type": "stream",
     "text": [
      "True\n",
      "False\n"
     ]
    }
   ],
   "source": [
    "# check if element belongs in the set\n",
    "print(3 in hs)\n",
    "print(5 in hs)"
   ]
  },
  {
   "cell_type": "code",
   "execution_count": 17,
   "id": "fe31b001",
   "metadata": {},
   "outputs": [
    {
     "name": "stdout",
     "output_type": "stream",
     "text": [
      "{1, 3}\n",
      "False\n"
     ]
    }
   ],
   "source": [
    "#removing an element from the hashset\n",
    "hs.remove(2)\n",
    "print(hs)\n",
    "print(2 in hs)"
   ]
  },
  {
   "cell_type": "code",
   "execution_count": 18,
   "id": "1d82c14f",
   "metadata": {},
   "outputs": [
    {
     "name": "stdout",
     "output_type": "stream",
     "text": [
      "{1, 2, 3}\n"
     ]
    }
   ],
   "source": [
    "# converting a list to a set\n",
    "listy = [1, 2, 3]\n",
    "my_set = set(listy)\n",
    "print(my_set)"
   ]
  },
  {
   "cell_type": "code",
   "execution_count": 19,
   "id": "ec8bf93e",
   "metadata": {},
   "outputs": [
    {
     "name": "stdout",
     "output_type": "stream",
     "text": [
      "{0, 1, 2, 3, 4, 5}\n"
     ]
    }
   ],
   "source": [
    "#Set comprehension\n",
    "myset = {i for i in range(6)}\n",
    "print(myset)"
   ]
  },
  {
   "cell_type": "markdown",
   "id": "af2e92e3",
   "metadata": {},
   "source": [
    "# HashMaps in Python (AKA Dictionaries)"
   ]
  },
  {
   "cell_type": "markdown",
   "id": "b7d83959",
   "metadata": {},
   "source": [
    "It is a key value pair based item, we gotta specify both index and its value. Cannot have duplicates either. "
   ]
  },
  {
   "cell_type": "code",
   "execution_count": null,
   "id": "535e2891",
   "metadata": {},
   "outputs": [
    {
     "name": "stdout",
     "output_type": "stream",
     "text": [
      "{'Siddhi': 1, 'Bhoomi': 2, 'Suru': 3}\n"
     ]
    }
   ],
   "source": [
    "#Creating a hashmap\n",
    "myMap = {}\n",
    "myMap[\"Siddhi\"] = 1 #here siddhi is the index, 1 is the key\n",
    "myMap[\"Bhoomi\"] = 2\n",
    "myMap[\"Suru\"] = 3\n",
    "print(myMap)"
   ]
  },
  {
   "cell_type": "code",
   "execution_count": 22,
   "id": "ef243ddf",
   "metadata": {},
   "outputs": [
    {
     "name": "stdout",
     "output_type": "stream",
     "text": [
      "3\n",
      "{'Siddhi': 0, 'Bhoomi': 2, 'Suru': 3}\n"
     ]
    }
   ],
   "source": [
    "#Length of the hashmap\n",
    "print(len(myMap))\n",
    "\n",
    "#change the value of an element based on the index\n",
    "myMap['Siddhi'] = 0\n",
    "print(myMap)"
   ]
  },
  {
   "cell_type": "code",
   "execution_count": 23,
   "id": "ebbeb14d",
   "metadata": {},
   "outputs": [
    {
     "name": "stdout",
     "output_type": "stream",
     "text": [
      "True\n"
     ]
    }
   ],
   "source": [
    "#Check if a key is present in the hashmap\n",
    "print(\"Siddhi\" in myMap)\n"
   ]
  },
  {
   "cell_type": "code",
   "execution_count": 24,
   "id": "3f4f7bf3",
   "metadata": {},
   "outputs": [
    {
     "name": "stdout",
     "output_type": "stream",
     "text": [
      "{'Bhoomi': 2, 'Suru': 3}\n"
     ]
    }
   ],
   "source": [
    "#remove an element from the hashmap based on the key\n",
    "myMap.pop(\"Siddhi\")\n",
    "print(myMap)"
   ]
  },
  {
   "cell_type": "code",
   "execution_count": 25,
   "id": "e0dd1e49",
   "metadata": {},
   "outputs": [
    {
     "name": "stdout",
     "output_type": "stream",
     "text": [
      "{1: 'Strawberry', 2: 'Banana', 3: 'Cherry', 4: 'Apple'}\n"
     ]
    }
   ],
   "source": [
    "# Initializing a hashmap\n",
    "hm = {\n",
    "    1:\"Strawberry\",\n",
    "    2:\"Banana\",\n",
    "    3:\"Cherry\",\n",
    "    4:\"Apple\"\n",
    "}\n",
    "print(hm)"
   ]
  },
  {
   "cell_type": "code",
   "execution_count": 26,
   "id": "ef924fe5",
   "metadata": {},
   "outputs": [
    {
     "name": "stdout",
     "output_type": "stream",
     "text": [
      "{1: 1, 2: 4, 3: 9, 4: 16, 5: 25}\n"
     ]
    }
   ],
   "source": [
    "#Dictionary comprehension\n",
    "my_dict = {i:i*i for i in range(1,6)}\n",
    "print(my_dict)"
   ]
  },
  {
   "cell_type": "markdown",
   "id": "72ad4e6b",
   "metadata": {},
   "source": [
    "The following are the ways through which we can loop through the hashmaps"
   ]
  },
  {
   "cell_type": "code",
   "execution_count": 29,
   "id": "7d3b65bc",
   "metadata": {},
   "outputs": [
    {
     "name": "stdout",
     "output_type": "stream",
     "text": [
      "1 1\n",
      "2 4\n",
      "3 9\n",
      "4 16\n",
      "5 25\n",
      "1\n",
      "4\n",
      "9\n",
      "16\n",
      "25\n",
      "1 1\n",
      "2 4\n",
      "3 9\n",
      "4 16\n",
      "5 25\n"
     ]
    }
   ],
   "source": [
    "# using keys\n",
    "for key in my_dict:\n",
    "    print(key, my_dict[key])\n",
    "\n",
    "#using values only\n",
    "for i in my_dict.values():\n",
    "    print(i)\n",
    "\n",
    "#both keys and values unpacked\n",
    "for a, b in my_dict.items():\n",
    "    print(a, b)"
   ]
  },
  {
   "cell_type": "markdown",
   "id": "a8a49b95",
   "metadata": {},
   "source": [
    "# Tuples in Python"
   ]
  },
  {
   "cell_type": "markdown",
   "id": "5a7393e1",
   "metadata": {},
   "source": [
    "They are pretty similar to arrays. But they are immutable. We use paranthesis instead of square braces. "
   ]
  },
  {
   "cell_type": "code",
   "execution_count": 30,
   "id": "97766564",
   "metadata": {},
   "outputs": [
    {
     "name": "stdout",
     "output_type": "stream",
     "text": [
      "(1, 2, 3, 4, 5)\n"
     ]
    }
   ],
   "source": [
    "tup = (1, 2, 3, 4, 5)\n",
    "print(tup)"
   ]
  },
  {
   "cell_type": "code",
   "execution_count": 31,
   "id": "9662d58c",
   "metadata": {},
   "outputs": [
    {
     "name": "stdout",
     "output_type": "stream",
     "text": [
      "1\n",
      "5\n"
     ]
    }
   ],
   "source": [
    "# Can index tuples\n",
    "print(tup[0])\n",
    "print(tup[-1])"
   ]
  },
  {
   "cell_type": "code",
   "execution_count": null,
   "id": "ee35c3da",
   "metadata": {},
   "outputs": [],
   "source": [
    "# #Cannot modify tuples\n",
    "# tup[2] = 1.5\n",
    "# print(tup)\n",
    "\n",
    "#throws an error"
   ]
  },
  {
   "cell_type": "markdown",
   "id": "7d754f5b",
   "metadata": {},
   "source": [
    "Tuples are mainly used as the keys in hashmaps. They are needed because lists cannot be used as the keys in a hashmap. "
   ]
  },
  {
   "cell_type": "markdown",
   "id": "0f77ff10",
   "metadata": {},
   "source": [
    "# Heaps in Python\n",
    "These data structures are mainly used to find the min and max values. They are under the hood arrays."
   ]
  },
  {
   "cell_type": "markdown",
   "id": "dab0fde7",
   "metadata": {},
   "source": [
    "By default the heaps in python are min heaps. we can implement heaps by using the class heapq"
   ]
  },
  {
   "cell_type": "code",
   "execution_count": null,
   "id": "d40c739e",
   "metadata": {},
   "outputs": [
    {
     "name": "stdout",
     "output_type": "stream",
     "text": [
      "[2, 9, 3]\n"
     ]
    }
   ],
   "source": [
    "import heapq\n",
    "myMinHeap = []\n",
    "heapq.heappush(myMinHeap, 9)\n",
    "heapq.heappush(myMinHeap, 2) \n",
    "heapq.heappush(myMinHeap, 3)\n",
    "print(myMinHeap)\n",
    "\n",
    "# my default the smallest value takes the index = 0"
   ]
  },
  {
   "cell_type": "code",
   "execution_count": null,
   "id": "8f7eef61",
   "metadata": {},
   "outputs": [
    {
     "name": "stdout",
     "output_type": "stream",
     "text": [
      "[3, 9]\n"
     ]
    }
   ],
   "source": [
    "heapq.heappop(myMinHeap) # by default pops the smallest item out of the heap. \n",
    "print(myMinHeap) # The next smallest item now assumes the position at index = 0"
   ]
  },
  {
   "cell_type": "markdown",
   "id": "c92c8ccc",
   "metadata": {},
   "source": [
    "In python there is no concept of maxheap. SO to work around that what we can do is while pushing the elements into the heap we  multiply it by -1 and then while using the elements we again multiply it by -1"
   ]
  },
  {
   "cell_type": "code",
   "execution_count": 36,
   "id": "d640a002",
   "metadata": {},
   "outputs": [
    {
     "name": "stdout",
     "output_type": "stream",
     "text": [
      "[-11, -9, -2]\n",
      "11\n"
     ]
    }
   ],
   "source": [
    "myMaxHeap = []\n",
    "heapq.heappush(myMaxHeap, -9)\n",
    "heapq.heappush(myMaxHeap, -11)\n",
    "heapq.heappush(myMaxHeap, -2)\n",
    "\n",
    "print(myMaxHeap)\n",
    "\n",
    "print(-1*myMaxHeap[0])"
   ]
  },
  {
   "cell_type": "markdown",
   "id": "afa1c32d",
   "metadata": {},
   "source": [
    "If we have an array, and we wanna make a heap from it, we can do it in linear time by using the function heapify"
   ]
  },
  {
   "cell_type": "code",
   "execution_count": 38,
   "id": "52b6d58c",
   "metadata": {},
   "outputs": [
    {
     "name": "stdout",
     "output_type": "stream",
     "text": [
      "[2, 6, 3, 9]\n"
     ]
    }
   ],
   "source": [
    "arr = [9, 6, 3, 2]\n",
    "heapq.heapify(arr)\n",
    "print(arr)\n"
   ]
  },
  {
   "cell_type": "markdown",
   "id": "eda0ec1d",
   "metadata": {},
   "source": [
    "# Functions in Python"
   ]
  },
  {
   "cell_type": "markdown",
   "id": "ed528b95",
   "metadata": {},
   "source": [
    "They can be declared using 'def' keyword. Idention represents the body of the function."
   ]
  },
  {
   "cell_type": "code",
   "execution_count": 39,
   "id": "e946e17f",
   "metadata": {},
   "outputs": [
    {
     "name": "stdout",
     "output_type": "stream",
     "text": [
      "12\n"
     ]
    }
   ],
   "source": [
    "def mult(a, b):\n",
    "    return a*b\n",
    "print(mult(3, 4))"
   ]
  },
  {
   "cell_type": "markdown",
   "id": "126b210c",
   "metadata": {},
   "source": [
    "We can also have nested functions and the inner function will have the access to all the parameters in the outer function."
   ]
  },
  {
   "cell_type": "code",
   "execution_count": 42,
   "id": "3f5c5f89",
   "metadata": {},
   "outputs": [
    {
     "name": "stdout",
     "output_type": "stream",
     "text": [
      "70\n"
     ]
    }
   ],
   "source": [
    "def outerFunc(a, b):\n",
    "    c = 10\n",
    "    def innerfunc():\n",
    "        return (a+b)*c\n",
    "    return innerfunc()\n",
    "    \n",
    "print(outerFunc(3,4))"
   ]
  },
  {
   "cell_type": "markdown",
   "id": "c51c1a7d",
   "metadata": {},
   "source": [
    "Note: Important thing about nested functions is that you can modify the objects but not reassign values unless you use the 'nonlocal' keyword"
   ]
  },
  {
   "cell_type": "code",
   "execution_count": 43,
   "id": "cf02647e",
   "metadata": {},
   "outputs": [
    {
     "name": "stdout",
     "output_type": "stream",
     "text": [
      "[1, 2, 3, 4]\n"
     ]
    }
   ],
   "source": [
    "#Example: Modify a mutable object (like a list)\n",
    "def outer():\n",
    "    nums = [1, 2, 3]\n",
    "    \n",
    "    def inner():\n",
    "        nums.append(4)  # ✅ Allowed — we’re modifying the list\n",
    "    \n",
    "    inner()\n",
    "    print(nums)\n",
    "\n",
    "outer()\n"
   ]
  },
  {
   "cell_type": "code",
   "execution_count": 45,
   "id": "64e6b049",
   "metadata": {},
   "outputs": [
    {
     "ename": "UnboundLocalError",
     "evalue": "cannot access local variable 'count' where it is not associated with a value",
     "output_type": "error",
     "traceback": [
      "\u001b[31m---------------------------------------------------------------------------\u001b[39m",
      "\u001b[31mUnboundLocalError\u001b[39m                         Traceback (most recent call last)",
      "\u001b[36mCell\u001b[39m\u001b[36m \u001b[39m\u001b[32mIn[45]\u001b[39m\u001b[32m, line 11\u001b[39m\n\u001b[32m      8\u001b[39m     inner()\n\u001b[32m      9\u001b[39m     \u001b[38;5;28mprint\u001b[39m(count)\n\u001b[32m---> \u001b[39m\u001b[32m11\u001b[39m \u001b[43mouter\u001b[49m\u001b[43m(\u001b[49m\u001b[43m)\u001b[49m\n",
      "\u001b[36mCell\u001b[39m\u001b[36m \u001b[39m\u001b[32mIn[45]\u001b[39m\u001b[32m, line 8\u001b[39m, in \u001b[36mouter\u001b[39m\u001b[34m()\u001b[39m\n\u001b[32m      5\u001b[39m \u001b[38;5;28;01mdef\u001b[39;00m\u001b[38;5;250m \u001b[39m\u001b[34minner\u001b[39m():\n\u001b[32m      6\u001b[39m     count = count + \u001b[32m1\u001b[39m  \u001b[38;5;66;03m# ❌ Error: UnboundLocalError\u001b[39;00m\n\u001b[32m----> \u001b[39m\u001b[32m8\u001b[39m \u001b[43minner\u001b[49m\u001b[43m(\u001b[49m\u001b[43m)\u001b[49m\n\u001b[32m      9\u001b[39m \u001b[38;5;28mprint\u001b[39m(count)\n",
      "\u001b[36mCell\u001b[39m\u001b[36m \u001b[39m\u001b[32mIn[45]\u001b[39m\u001b[32m, line 6\u001b[39m, in \u001b[36mouter.<locals>.inner\u001b[39m\u001b[34m()\u001b[39m\n\u001b[32m      5\u001b[39m \u001b[38;5;28;01mdef\u001b[39;00m\u001b[38;5;250m \u001b[39m\u001b[34minner\u001b[39m():\n\u001b[32m----> \u001b[39m\u001b[32m6\u001b[39m     count = \u001b[43mcount\u001b[49m + \u001b[32m1\u001b[39m\n",
      "\u001b[31mUnboundLocalError\u001b[39m: cannot access local variable 'count' where it is not associated with a value"
     ]
    }
   ],
   "source": [
    "# Example: Reassigning a variable without nonlocal\n",
    "def outer():\n",
    "    count = 0\n",
    "    \n",
    "    def inner():\n",
    "        count = count + 1  # ❌ Error: UnboundLocalError\n",
    "    \n",
    "    inner()\n",
    "    print(count)\n",
    "\n",
    "outer()\n"
   ]
  },
  {
   "cell_type": "code",
   "execution_count": 46,
   "id": "e419a06e",
   "metadata": {},
   "outputs": [
    {
     "name": "stdout",
     "output_type": "stream",
     "text": [
      "1\n"
     ]
    }
   ],
   "source": [
    "#Fix using nonlocal\n",
    "def outer():\n",
    "    count = 0\n",
    "    \n",
    "    def inner():\n",
    "        nonlocal count\n",
    "        count = count + 1  # ✅ Now works — we told Python to use the outer `count`\n",
    "    \n",
    "    inner()\n",
    "    print(count)\n",
    "\n",
    "outer()\n"
   ]
  },
  {
   "cell_type": "markdown",
   "id": "e0ab7dbe",
   "metadata": {},
   "source": [
    "# Classes in Python"
   ]
  },
  {
   "cell_type": "markdown",
   "id": "f1cbc8bb",
   "metadata": {},
   "source": [
    "A constructor is created by __init__. Within every constructor we pass 'self' as an argument. "
   ]
  },
  {
   "cell_type": "code",
   "execution_count": 47,
   "id": "09286091",
   "metadata": {},
   "outputs": [
    {
     "name": "stdout",
     "output_type": "stream",
     "text": [
      "Hello, my name is Alice and I am 25 years old.\n"
     ]
    }
   ],
   "source": [
    "class Person:\n",
    "    def __init__(self, name, age):\n",
    "        self.name = name      # instance variable\n",
    "        self.age = age        # instance variable\n",
    "\n",
    "    def say_hello(self):\n",
    "        print(f\"Hello, my name is {self.name} and I am {self.age} years old.\")\n",
    "\n",
    "# Create an object (instance) of the class\n",
    "person1 = Person(\"Alice\", 25)\n",
    "\n",
    "# Call the method\n",
    "person1.say_hello()\n"
   ]
  }
 ],
 "metadata": {
  "kernelspec": {
   "display_name": "Python 3",
   "language": "python",
   "name": "python3"
  },
  "language_info": {
   "codemirror_mode": {
    "name": "ipython",
    "version": 3
   },
   "file_extension": ".py",
   "mimetype": "text/x-python",
   "name": "python",
   "nbconvert_exporter": "python",
   "pygments_lexer": "ipython3",
   "version": "3.12.1"
  }
 },
 "nbformat": 4,
 "nbformat_minor": 5
}
