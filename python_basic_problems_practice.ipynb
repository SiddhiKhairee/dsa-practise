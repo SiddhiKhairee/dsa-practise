{
 "cells": [
  {
   "cell_type": "markdown",
   "id": "a55feb0c",
   "metadata": {},
   "source": [
    "All the basic problems in python. Just for Revision"
   ]
  },
  {
   "cell_type": "markdown",
   "id": "0a79edad",
   "metadata": {},
   "source": [
    "## Variables and Data Types"
   ]
  },
  {
   "cell_type": "markdown",
   "id": "4dc5f9ee",
   "metadata": {},
   "source": [
    "Write a program that takes your name, age, and height, and prints them in a formatted string."
   ]
  },
  {
   "cell_type": "code",
   "execution_count": 1,
   "id": "5ca448a4",
   "metadata": {},
   "outputs": [
    {
     "name": "stdout",
     "output_type": "stream",
     "text": [
      "Hi Siddhi, You are 22 years old and your height is 153.0\n"
     ]
    }
   ],
   "source": [
    "name = input(\"Enter your name: \")\n",
    "age = int(input(\"Enter your age: \"))\n",
    "height = float(input(\"Enter your height: \"))\n",
    "\n",
    "print(f'Hi {name}, You are {age} years old and your height is {height}')"
   ]
  },
  {
   "cell_type": "markdown",
   "id": "876f3a95",
   "metadata": {},
   "source": [
    "# Conditionals"
   ]
  },
  {
   "cell_type": "markdown",
   "id": "84d1d946",
   "metadata": {},
   "source": [
    "Create a program that takes an integer as input and prints whether it’s even, odd, positive, negative, or zero."
   ]
  },
  {
   "cell_type": "code",
   "execution_count": 3,
   "id": "f4d8b9b5",
   "metadata": {},
   "outputs": [
    {
     "name": "stdout",
     "output_type": "stream",
     "text": [
      "Number is positive and odd\n"
     ]
    }
   ],
   "source": [
    "i = int(input(\"Enter a number: \"))\n",
    "if i<0:\n",
    "    if i%2 == 0:\n",
    "        print(\"Number is negetive and even\")\n",
    "    else:\n",
    "        print(\"Number is negetive and odd\")\n",
    "elif(i==0):\n",
    "    print(\"Number is 0 and is even\")\n",
    "else:\n",
    "    if i%2 == 0:\n",
    "        print(\"Number is positive and even\")\n",
    "    else:\n",
    "        print(\"Number is positive and odd\")"
   ]
  },
  {
   "cell_type": "markdown",
   "id": "881b6ef4",
   "metadata": {},
   "source": [
    "# Loops\n",
    "Print all prime numbers between 1 and 100."
   ]
  },
  {
   "cell_type": "code",
   "execution_count": 15,
   "id": "57266c58",
   "metadata": {},
   "outputs": [
    {
     "name": "stdout",
     "output_type": "stream",
     "text": [
      "1\n"
     ]
    }
   ],
   "source": [
    "for i in range(1,2):\n",
    "    print(i)"
   ]
  },
  {
   "cell_type": "code",
   "execution_count": 16,
   "id": "9e57576e",
   "metadata": {},
   "outputs": [
    {
     "name": "stdout",
     "output_type": "stream",
     "text": [
      "[2, 3, 5, 7, 11, 13, 17, 19, 23, 29, 31, 37, 41, 43, 47, 53, 59, 61, 67, 71, 73, 79, 83, 89, 97]\n"
     ]
    }
   ],
   "source": [
    "import math\n",
    "a = 4\n",
    "prime_numbers = [2, 3]\n",
    "while(a<= 100):\n",
    "    # a bunch of bulshit\n",
    "    flag = 0\n",
    "    for i in range(1, (a//2)+1): \n",
    "        if(a%i == 0 and i!=1):\n",
    "            flag = 1\n",
    "            \n",
    "    if(flag == 0):\n",
    "        prime_numbers.append(a)\n",
    "\n",
    "    a = a + 1\n",
    "\n",
    "print(prime_numbers)"
   ]
  },
  {
   "cell_type": "markdown",
   "id": "841f9fc6",
   "metadata": {},
   "source": [
    "Create a pattern like this\n"
   ]
  },
  {
   "cell_type": "code",
   "execution_count": 34,
   "id": "1d3c36dd",
   "metadata": {},
   "outputs": [
    {
     "name": "stdout",
     "output_type": "stream",
     "text": [
      "*\n",
      "**\n",
      "***\n",
      "****\n"
     ]
    }
   ],
   "source": [
    "#*\n",
    "#**\n",
    "#***\n",
    "#****\n",
    "rows = 1\n",
    "while(rows <= 4):\n",
    "    # print(rows)\n",
    "    for i in range(rows):\n",
    "        print(\"*\", end=\"\")\n",
    "    print()\n",
    "    rows+=1"
   ]
  },
  {
   "cell_type": "markdown",
   "id": "ff96f10d",
   "metadata": {},
   "source": [
    "# Functions\n",
    "Write a function is_palindrome(s) that returns True if s is a palindrome."
   ]
  },
  {
   "cell_type": "code",
   "execution_count": 40,
   "id": "4d79da75",
   "metadata": {},
   "outputs": [
    {
     "name": "stdout",
     "output_type": "stream",
     "text": [
      "String is a palindrome\n"
     ]
    }
   ],
   "source": [
    "def is_palindrome(s):\n",
    "    reversed_string = s[::-1]\n",
    "    if(s == reversed_string):\n",
    "        print(\"String is a palindrome\")\n",
    "    else:\n",
    "        print(\"String is not a palindrome\")\n",
    "\n",
    "stringy = input(\"Enter a string: \")\n",
    "is_palindrome(stringy)"
   ]
  },
  {
   "cell_type": "markdown",
   "id": "fcde126a",
   "metadata": {},
   "source": [
    "Write a function that returns the factorial of a number using a for loop."
   ]
  },
  {
   "cell_type": "code",
   "execution_count": 42,
   "id": "d10595bc",
   "metadata": {},
   "outputs": [
    {
     "name": "stdout",
     "output_type": "stream",
     "text": [
      "Factorial is:  120\n"
     ]
    }
   ],
   "source": [
    "def factorial(n):\n",
    "    fact = 1\n",
    "    for i in range(1, n+1):\n",
    "        fact = fact*i\n",
    "    return fact\n",
    "\n",
    "num = int(input(\"Enter an integer: \"))\n",
    "print(\"Factorial is: \", factorial(num))"
   ]
  },
  {
   "cell_type": "code",
   "execution_count": 44,
   "id": "c5f5155d",
   "metadata": {},
   "outputs": [
    {
     "name": "stdout",
     "output_type": "stream",
     "text": [
      "Factorial is:  120\n"
     ]
    }
   ],
   "source": [
    "def recursive_factorial(n):\n",
    "    if (n==0 or n==1):\n",
    "        return 1\n",
    "    return n*recursive_factorial(n-1)\n",
    "\n",
    "num = int(input(\"Enter an integer: \"))\n",
    "print(\"Factorial is: \", recursive_factorial(num))"
   ]
  },
  {
   "cell_type": "markdown",
   "id": "186e370b",
   "metadata": {},
   "source": [
    "# List and Tuples\n",
    "Write a function that takes a list and returns a new list with only the even numbers."
   ]
  },
  {
   "cell_type": "code",
   "execution_count": 47,
   "id": "8b301bf1",
   "metadata": {},
   "outputs": [
    {
     "name": "stdout",
     "output_type": "stream",
     "text": [
      "Your list is:  [1, 2, 3, 4, 5, 6, 7, 8, 9, 10]\n"
     ]
    }
   ],
   "source": [
    "listLength = int(input(\"Enter the number of elements you want in the list: \"))\n",
    "listy = []\n",
    "for i in range (listLength):\n",
    "    a = int(input(f\"Enter element number {i+1}: \"))\n",
    "    listy.append(a)\n",
    "\n",
    "print(\"Your list is: \", listy)"
   ]
  },
  {
   "cell_type": "code",
   "execution_count": 53,
   "id": "2bfd471c",
   "metadata": {},
   "outputs": [
    {
     "name": "stdout",
     "output_type": "stream",
     "text": [
      "[2, 4, 6, 8, 10]\n"
     ]
    }
   ],
   "source": [
    "even_listy = [i for i in listy if i%2==0]\n",
    "print(even_listy)\n"
   ]
  },
  {
   "cell_type": "markdown",
   "id": "e5184f57",
   "metadata": {},
   "source": [
    "Reverse a list without using the .reverse() method or slicing."
   ]
  },
  {
   "cell_type": "code",
   "execution_count": null,
   "id": "1c48ec91",
   "metadata": {},
   "outputs": [
    {
     "name": "stdout",
     "output_type": "stream",
     "text": [
      "[1, 2, 3, 4, 5, 6, 7, 8, 9, 10]\n",
      "[10, 9, 8, 7, 6, 5, 4, 3, 2, 1]\n"
     ]
    }
   ],
   "source": [
    "print(listy)\n",
    "i = len(listy) - 1\n",
    "reversed_list = []\n",
    "while (i>=0):\n",
    "    #some bullshit\n",
    "    a = listy[i]\n",
    "    reversed_list.append(a)\n",
    "    i-=1\n",
    "print(reversed_list)"
   ]
  },
  {
   "cell_type": "markdown",
   "id": "cf5219ba",
   "metadata": {},
   "source": [
    "# Dictionaries and Sets\n"
   ]
  },
  {
   "cell_type": "markdown",
   "id": "7ba85ee6",
   "metadata": {},
   "source": [
    "Count the frequency of each character in a string using a dictionary."
   ]
  },
  {
   "cell_type": "code",
   "execution_count": 11,
   "id": "a9df2472",
   "metadata": {},
   "outputs": [
    {
     "name": "stdout",
     "output_type": "stream",
     "text": [
      "{'d': 1, 'o': 3, 'g': 1, 'p': 2}\n"
     ]
    }
   ],
   "source": [
    "s = \"dogpoop\"\n",
    "str_len = len(s)\n",
    "\n",
    "str_dict = {}\n",
    "for i in range(0, str_len):\n",
    "    a = s[i]\n",
    "    if(a not in str_dict):\n",
    "        count = 1\n",
    "        j=i+1\n",
    "        while(j<str_len):\n",
    "            if(a==s[j]):\n",
    "                count+=1\n",
    "            j+=1\n",
    "        str_dict.update({a:(count)})\n",
    "print(str_dict)\n"
   ]
  },
  {
   "cell_type": "markdown",
   "id": "6bc6aa6d",
   "metadata": {},
   "source": [
    "Remove duplicates from a list using a set."
   ]
  },
  {
   "cell_type": "code",
   "execution_count": 13,
   "id": "54b6be61",
   "metadata": {},
   "outputs": [
    {
     "name": "stdout",
     "output_type": "stream",
     "text": [
      "{'hi', 'you', 'love', 'mf', 'booby', 'wash', 'i'}\n"
     ]
    }
   ],
   "source": [
    "my_list = [\"hi\", \"i\", \"love\", \"you\", \"hi\", \"mf\", \"booby\", \"booby\", \"wash\"]\n",
    "my_set = set()\n",
    "for i in range(0, len(my_list)):\n",
    "    a = my_list[i]\n",
    "    my_set.add(a)\n",
    "print(my_set)"
   ]
  },
  {
   "cell_type": "markdown",
   "id": "b3db3887",
   "metadata": {},
   "source": [
    "# String Manipulation\n",
    "Write a function that takes a sentence and returns the number of words."
   ]
  },
  {
   "cell_type": "code",
   "execution_count": 27,
   "id": "8c30d1fd",
   "metadata": {},
   "outputs": [
    {
     "name": "stdout",
     "output_type": "stream",
     "text": [
      "8\n"
     ]
    }
   ],
   "source": [
    "my_sentence = \"I am so fucking tired of my life\"\n",
    "sentence_len = len(my_sentence)\n",
    "wc = my_sentence.split()\n",
    "# for i in range (0, sentence_len):\n",
    "#     # wc = 0\n",
    "#     if(my_sentence[i]==\" \"):\n",
    "#         wc = wc+1\n",
    "# wc = wc +1          \n",
    "print(len(wc))   \n",
    "\n"
   ]
  },
  {
   "cell_type": "markdown",
   "id": "7add41d8",
   "metadata": {},
   "source": [
    "Implement a basic Caesar cipher that shifts letters by 3 positions."
   ]
  },
  {
   "cell_type": "code",
   "execution_count": 4,
   "id": "1a4e659f",
   "metadata": {},
   "outputs": [
    {
     "name": "stdout",
     "output_type": "stream",
     "text": [
      "khoor\n"
     ]
    }
   ],
   "source": [
    "alphabets = 'a b c d e f g h i j k l m n o p q r s t u v w x y z'\n",
    "alphabets_arr = alphabets.split()\n",
    "stringyy = input(\"Enter a string: \")\n",
    "stringy_arr = []\n",
    "for i in range (len(stringyy)):\n",
    "    a = stringyy[i]\n",
    "    stringy_arr.append(a)\n",
    "carr = []\n",
    "j=0\n",
    "while(j<len(stringy_arr)):\n",
    "    letter = stringy_arr[j]\n",
    "    for k in range (len(alphabets_arr)):\n",
    "        if(alphabets_arr[k]==letter):\n",
    "            cletter = alphabets_arr[k+3]\n",
    "            carr.append(cletter)\n",
    "    j=j+1\n",
    "\n",
    "# print(carr)\n",
    "cstring = ''.join(carr)\n",
    "print(cstring)\n",
    "\n"
   ]
  },
  {
   "cell_type": "markdown",
   "id": "873fc770",
   "metadata": {},
   "source": [
    "# List Comprehensions\n",
    "Create a list of squares from 1 to 20 using list comprehension."
   ]
  },
  {
   "cell_type": "code",
   "execution_count": 5,
   "id": "a5be27c9",
   "metadata": {},
   "outputs": [
    {
     "name": "stdout",
     "output_type": "stream",
     "text": [
      "[1, 4, 9, 16, 25, 36, 49, 64, 81, 100, 121, 144, 169, 196, 225, 256, 289, 324, 361, 400]\n"
     ]
    }
   ],
   "source": [
    "sq = [i*i for i in range(1, 21)]\n",
    "print(sq)"
   ]
  },
  {
   "cell_type": "code",
   "execution_count": 8,
   "id": "76b47bd4",
   "metadata": {},
   "outputs": [
    {
     "name": "stdout",
     "output_type": "stream",
     "text": [
      "['wassup', 'babygirl']\n"
     ]
    }
   ],
   "source": [
    "list_of_words = [\"hi\", \"wassup\", \"babygirl\", \"fuck\", \"you\"]\n",
    "bigger_than_four = [i for i in list_of_words if (len(i)>4)]\n",
    "print(bigger_than_four)"
   ]
  },
  {
   "cell_type": "markdown",
   "id": "b84fde88",
   "metadata": {},
   "source": [
    "# Exception Handling\n",
    "Write a calculator that handles ZeroDivisionError and ValueError."
   ]
  },
  {
   "cell_type": "code",
   "execution_count": 13,
   "id": "d5a6a275",
   "metadata": {},
   "outputs": [
    {
     "name": "stdout",
     "output_type": "stream",
     "text": [
      "Cannot divide by 0\n"
     ]
    }
   ],
   "source": [
    "a, b = input(\"Enter two numbers: \").split()\n",
    "\n",
    "\n",
    "a = int(a)\n",
    "b = int(b)\n",
    "op = input(\"Enter an operation: \")\n",
    "\n",
    "def add(x, y):\n",
    "    try: \n",
    "     print(x+y)\n",
    "    except ValueError:\n",
    "        print(\"Enter a fucking number\")\n",
    "\n",
    "def sub(x, y):\n",
    "    try: \n",
    "        print(x-y)\n",
    "    except ValueError:\n",
    "        print(\"Enter a fucking number\")\n",
    "        \n",
    "\n",
    "def mult(x, y):\n",
    "    try: \n",
    "        print(x*y)\n",
    "    except ValueError:\n",
    "        print(\"Enter a fucking number\")\n",
    "\n",
    "def div(x, y):\n",
    "    try: \n",
    "        print(x/y)\n",
    "    except ZeroDivisionError:\n",
    "        print(\"Cannot divide by 0\")\n",
    "    except ValueError:\n",
    "        print(\"Enter a fucking number\")\n",
    "    \n",
    "if(op==\"add\"):\n",
    "    add(a, b)\n",
    "elif(op==\"sub\"):\n",
    "    sub(a, b)\n",
    "elif(op==\"mult\"):\n",
    "    mult(a, b)\n",
    "else:\n",
    "    div(a, b)"
   ]
  }
 ],
 "metadata": {
  "kernelspec": {
   "display_name": "Python 3",
   "language": "python",
   "name": "python3"
  },
  "language_info": {
   "codemirror_mode": {
    "name": "ipython",
    "version": 3
   },
   "file_extension": ".py",
   "mimetype": "text/x-python",
   "name": "python",
   "nbconvert_exporter": "python",
   "pygments_lexer": "ipython3",
   "version": "3.12.1"
  }
 },
 "nbformat": 4,
 "nbformat_minor": 5
}
